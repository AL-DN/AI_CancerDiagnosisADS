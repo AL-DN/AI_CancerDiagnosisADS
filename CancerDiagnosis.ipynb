{
  "nbformat": 4,
  "nbformat_minor": 0,
  "metadata": {
    "colab": {
      "provenance": [],
      "authorship_tag": "ABX9TyOuRiTQ0zgCYWAtRj3E8nuI",
      "include_colab_link": true
    },
    "kernelspec": {
      "name": "python3",
      "display_name": "Python 3"
    },
    "language_info": {
      "name": "python"
    }
  },
  "cells": [
    {
      "cell_type": "markdown",
      "metadata": {
        "id": "view-in-github",
        "colab_type": "text"
      },
      "source": [
        "<a href=\"https://colab.research.google.com/github/AL-DN/AI_CancerDiagnosisADS/blob/main/CancerDiagnosis.ipynb\" target=\"_parent\"><img src=\"https://colab.research.google.com/assets/colab-badge.svg\" alt=\"Open In Colab\"/></a>"
      ]
    },
    {
      "cell_type": "code",
      "execution_count": 62,
      "metadata": {
        "id": "XU5dIRSjRUvz"
      },
      "outputs": [],
      "source": [
        "# Author: Alden Sahi\n",
        "# Date: 01/31/2024\n",
        "# Project : CancerDiagnosis.pynb\n",
        "# API's: Tensorflow, SKlearn, Pandas\n",
        "# Project Description:\n",
        "  # Uses tumor description to predict whether the tumor is malignant or benign\n",
        "\n",
        "#Reference: https://www.youtube.com/watch?v=z1PGJ9quPV8"
      ]
    },
    {
      "cell_type": "code",
      "source": [
        "#read csv into variable\n",
        "import pandas as pd\n",
        "dataset = pd.read_csv('cancer.csv')"
      ],
      "metadata": {
        "id": "JbO98i_Uruok"
      },
      "execution_count": 63,
      "outputs": []
    },
    {
      "cell_type": "code",
      "source": [
        "#set x to all the input variables (specification of tumor (size, smoothness, etc))\n",
        "x = dataset.drop(columns=[\"diagnosis(1=m, 0=b)\"])"
      ],
      "metadata": {
        "id": "VvgTdnMqsDrz"
      },
      "execution_count": 64,
      "outputs": []
    },
    {
      "cell_type": "code",
      "source": [
        "#set y to outcome of data\n",
        "#1 is malignant 0 is benign\n",
        "y = dataset[\"diagnosis(1=m, 0=b)\"]"
      ],
      "metadata": {
        "id": "9qCYB-yysVP4"
      },
      "execution_count": 55,
      "outputs": []
    },
    {
      "cell_type": "code",
      "source": [
        "#this allows us to split the data. Training the AI on 20% of the data\n",
        "# and testing it on the fresh 80%\n",
        "from sklearn.model_selection import train_test_split\n",
        "x_train, x_test, y_train, y_test = train_test_split(x,y,test_size=0.2)"
      ],
      "metadata": {
        "id": "WgqMFww2sjeS"
      },
      "execution_count": 56,
      "outputs": []
    },
    {
      "cell_type": "code",
      "source": [
        "#neural network API\n",
        "import tensorflow as tf\n",
        "model = tf.keras.models.Sequential()"
      ],
      "metadata": {
        "id": "GPXYxySgtKTC"
      },
      "execution_count": 57,
      "outputs": []
    },
    {
      "cell_type": "code",
      "source": [
        "#neural network contruction( input, hidden, output layers )\n",
        "model.add(tf.keras.layers.Dense(256, input_shape=x_train.shape[1:], activation ='sigmoid'))\n",
        "model.add(tf.keras.layers.Dense(256, activation = 'sigmoid'))\n",
        "model.add(tf.keras.layers.Dense(1, activation = 'sigmoid'))"
      ],
      "metadata": {
        "id": "H_DRqi6BtSw9"
      },
      "execution_count": 58,
      "outputs": []
    },
    {
      "cell_type": "code",
      "source": [
        "model.compile(optimizer='adam',loss='binary_crossentropy', metrics=['accuracy'])"
      ],
      "metadata": {
        "id": "krVIufvkuTtR"
      },
      "execution_count": 59,
      "outputs": []
    },
    {
      "cell_type": "code",
      "source": [
        "model.fit(x_train,y_train,epochs=1000)"
      ],
      "metadata": {
        "id": "exMOX6IUyDN9"
      },
      "execution_count": null,
      "outputs": []
    },
    {
      "cell_type": "code",
      "source": [
        "model.evaluate(x_test, y_test)"
      ],
      "metadata": {
        "colab": {
          "base_uri": "https://localhost:8080/"
        },
        "id": "eqmYRjNlyK1o",
        "outputId": "0f5d5554-58d0-4235-d4c8-319011a5b858"
      },
      "execution_count": 61,
      "outputs": [
        {
          "output_type": "stream",
          "name": "stdout",
          "text": [
            "4/4 [==============================] - 0s 5ms/step - loss: 0.0945 - accuracy: 0.9737\n"
          ]
        },
        {
          "output_type": "execute_result",
          "data": {
            "text/plain": [
              "[0.0944591537117958, 0.9736841917037964]"
            ]
          },
          "metadata": {},
          "execution_count": 61
        }
      ]
    },
    {
      "cell_type": "code",
      "source": [],
      "metadata": {
        "id": "9i2nN87g5XnF"
      },
      "execution_count": null,
      "outputs": []
    }
  ]
}