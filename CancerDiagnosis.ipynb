{
  "nbformat": 4,
  "nbformat_minor": 0,
  "metadata": {
    "colab": {
      "provenance": [],
      "authorship_tag": "ABX9TyMP1qUHwdC4auKfHqYBYyTY",
      "include_colab_link": true
    },
    "kernelspec": {
      "name": "python3",
      "display_name": "Python 3"
    },
    "language_info": {
      "name": "python"
    }
  },
  "cells": [
    {
      "cell_type": "markdown",
      "metadata": {
        "id": "view-in-github",
        "colab_type": "text"
      },
      "source": [
        "<a href=\"https://colab.research.google.com/github/AL-DN/AI_CancerDiagnosisADS/blob/main/CancerDiagnosis.ipynb\" target=\"_parent\"><img src=\"https://colab.research.google.com/assets/colab-badge.svg\" alt=\"Open In Colab\"/></a>"
      ]
    },
    {
      "cell_type": "code",
      "execution_count": 2,
      "metadata": {
        "id": "XU5dIRSjRUvz"
      },
      "outputs": [],
      "source": [
        "# Author: Alden Sahi\n",
        "# Date: 01/31/2024\n",
        "# Project : CancerDiagnosis.pynb\n",
        "# Project Description: This will use a basic neural network using\n",
        "#c TensorFlow to be able to accurately predict if the patient has Cancer"
      ]
    },
    {
      "cell_type": "code",
      "source": [
        "import pandas as pd"
      ],
      "metadata": {
        "id": "9UBVEe4WT_wg"
      },
      "execution_count": null,
      "outputs": []
    },
    {
      "cell_type": "code",
      "source": [],
      "metadata": {
        "id": "fuSeNO7KUA-d"
      },
      "execution_count": null,
      "outputs": []
    }
  ]
}